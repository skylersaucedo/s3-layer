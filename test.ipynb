{
 "cells": [
  {
   "cell_type": "code",
   "execution_count": null,
   "metadata": {},
   "outputs": [],
   "source": [
    "#!pip install httpx urllib3 python-dotenv"
   ]
  },
  {
   "cell_type": "markdown",
   "metadata": {},
   "source": [
    "# API Functional Tests and Examples\n",
    "\n",
    "This notebook is a collection of functional tests and examples for the API. It is not meant to be run as a whole, but rather to be used as a reference for the API. You'll need a .env file with the following variables:\n",
    "\n",
    "```bash\n",
    "API_KEY=your_api_key\n",
    "API_SECRET=your_api_secret\n",
    "```\n",
    "\n",
    "You can also set the environment variables directly in the notebook.\n",
    "\n",
    "The API documentation can be found at https://api.tsi-mlops.com/docs."
   ]
  },
  {
   "cell_type": "code",
   "execution_count": 3,
   "metadata": {},
   "outputs": [],
   "source": [
    "from dotenv import load_dotenv\n",
    "import httpx\n",
    "import os\n",
    "import urllib3"
   ]
  },
  {
   "cell_type": "code",
   "execution_count": 4,
   "metadata": {},
   "outputs": [],
   "source": [
    "load_dotenv()\n",
    "\n",
    "API_KEY=os.getenv(\"API_KEY\")\n",
    "API_SECRET=os.getenv(\"API_SECRET\")"
   ]
  },
  {
   "cell_type": "code",
   "execution_count": 7,
   "metadata": {},
   "outputs": [],
   "source": [
    "# Read the test image file from local storage.\n",
    "with open(\"testimg.png\", \"rb\") as fp:\n",
    "    file_data = fp.read()"
   ]
  },
  {
   "cell_type": "markdown",
   "metadata": {},
   "source": [
    "## urrlib3"
   ]
  },
  {
   "cell_type": "code",
   "execution_count": 31,
   "metadata": {},
   "outputs": [
    {
     "name": "stdout",
     "output_type": "stream",
     "text": [
      "Uploaded file to S3 with object name: 1a8eef56-c585-4395-b2e4-a128ad90f1ed-testimg.png\n"
     ]
    }
   ],
   "source": [
    "urllib_headers = urllib3.make_headers(basic_auth=f\"{API_KEY}:{API_SECRET}\")\n",
    "\n",
    "fields = []\n",
    "\n",
    "file_field = urllib3.fields.RequestField(\"file\", file_data, filename=\"testimg.png\")\n",
    "file_field.make_multipart(content_disposition=\"form-data; name=testimg.png\", content_type=\"image/png\")\n",
    "fields.append(file_field)\n",
    "\n",
    "tags = [\"test\", \"png\", \"urllib3\"]\n",
    "\n",
    "for tag in tags:\n",
    "    tag_field = urllib3.fields.RequestField(\"tags\", tag)\n",
    "    tag_field.make_multipart(content_disposition=\"form-data; name=tags\", content_type=\"text/plain\")\n",
    "    fields.append(tag_field)\n",
    "\n",
    "urllib_upload_response = urllib3.request(\n",
    "    \"POST\",\n",
    "    \"https://api.tsi-mlops.com/dataset/upload-file\",\n",
    "    fields=fields,\n",
    "    headers=urllib_headers\n",
    ")\n",
    "\n",
    "if urllib_upload_response.status != 200:\n",
    "    raise ValueError(f\"Failed to upload file to S3: {urllib_upload_response.data}\")\n",
    "\n",
    "s3_object_name = urllib_upload_response.json()[\"s3_object_name\"]\n",
    "\n",
    "print(f\"Uploaded file to S3 with object name: {s3_object_name}\")\n"
   ]
  },
  {
   "cell_type": "code",
   "execution_count": 32,
   "metadata": {},
   "outputs": [
    {
     "name": "stdout",
     "output_type": "stream",
     "text": [
      "File: 210b3b04-fb3f-452c-8986-d00b83cce01e-testimg.png, Tags: []\n",
      "File: 1c789734-9b0a-4897-a12f-a2033f1e035c-testimg.png, Tags: ['png']\n",
      "File: 1a8eef56-c585-4395-b2e4-a128ad90f1ed-testimg.png, Tags: ['png', 'test', 'urllib3']\n",
      "File: 7c1322ce-fa32-46fb-abe1-346a22fa42eb-testimg.png, Tags: ['test']\n",
      "File: 59407ec5-1c27-4c09-b3fc-6721161b45b5-testimg.png, Tags: ['png', 'test']\n",
      "File: c8c50c72-e8ba-4dea-8056-19c87283c523-testimg.png, Tags: ['test']\n",
      "File: 8342ecaa-6d0c-4903-8d61-401481179946-testimg.png, Tags: ['png', 'test']\n",
      "File: 3c4bc4c6-88e0-48f6-8476-8b04511af14c-testimg.png, Tags: ['png', 'test']\n",
      "File: 0580bb15-17d7-46d9-a349-f34448b0661b-testimg.png, Tags: []\n"
     ]
    }
   ],
   "source": [
    "urllib_list_response = urllib3.request(\n",
    "    \"GET\",\n",
    "    \"https://api.tsi-mlops.com/dataset/list-files\",\n",
    "    headers=urllib_headers\n",
    ")\n",
    "\n",
    "urllib_lr_json = urllib_list_response.json()\n",
    "\n",
    "urllib_files_list = urllib_lr_json[\"files\"]\n",
    "\n",
    "for file in urllib_files_list:\n",
    "    print(f\"File: {file['s3_object_name']}, Tags: {file['tags']}\")"
   ]
  },
  {
   "cell_type": "markdown",
   "metadata": {},
   "source": [
    "## httpx"
   ]
  },
  {
   "cell_type": "code",
   "execution_count": 33,
   "metadata": {},
   "outputs": [
    {
     "name": "stdout",
     "output_type": "stream",
     "text": [
      "Uploaded file to S3 with object name: 9c6507a5-4606-44f9-aa18-826d9b1bc404-testimg.png\n"
     ]
    }
   ],
   "source": [
    "httpx_upload_response = httpx.post(\n",
    "    \"https://api.tsi-mlops.com/dataset/upload-file\",\n",
    "    files={\"file\": (\"testimg.png\", file_data)},\n",
    "    data={\"tags\": [\"test\", \"png\", \"httpx\"]},\n",
    "    auth=(API_KEY, API_SECRET),\n",
    ")\n",
    "\n",
    "s3_object_name = httpx_upload_response.json()[\"s3_object_name\"]\n",
    "\n",
    "print(f\"Uploaded file to S3 with object name: {s3_object_name}\")"
   ]
  },
  {
   "cell_type": "code",
   "execution_count": 34,
   "metadata": {},
   "outputs": [
    {
     "name": "stdout",
     "output_type": "stream",
     "text": [
      "File: 210b3b04-fb3f-452c-8986-d00b83cce01e-testimg.png, Tags: []\n",
      "File: 1c789734-9b0a-4897-a12f-a2033f1e035c-testimg.png, Tags: ['png']\n",
      "File: 1a8eef56-c585-4395-b2e4-a128ad90f1ed-testimg.png, Tags: ['png', 'test', 'urllib3']\n",
      "File: 7c1322ce-fa32-46fb-abe1-346a22fa42eb-testimg.png, Tags: ['test']\n",
      "File: 9c6507a5-4606-44f9-aa18-826d9b1bc404-testimg.png, Tags: ['png', 'test', 'httpx']\n",
      "File: 59407ec5-1c27-4c09-b3fc-6721161b45b5-testimg.png, Tags: ['png', 'test']\n",
      "File: c8c50c72-e8ba-4dea-8056-19c87283c523-testimg.png, Tags: ['test']\n",
      "File: 8342ecaa-6d0c-4903-8d61-401481179946-testimg.png, Tags: ['png', 'test']\n",
      "File: 3c4bc4c6-88e0-48f6-8476-8b04511af14c-testimg.png, Tags: ['png', 'test']\n",
      "File: 0580bb15-17d7-46d9-a349-f34448b0661b-testimg.png, Tags: []\n"
     ]
    }
   ],
   "source": [
    "httpx_list_response = httpx.get(\n",
    "    \"https://api.tsi-mlops.com/dataset/list-files\",\n",
    "    auth=(API_KEY, API_SECRET),\n",
    ")\n",
    "\n",
    "httpx_lr_json = httpx_list_response.json()\n",
    "\n",
    "httpx_files_list = httpx_lr_json[\"files\"]\n",
    "\n",
    "for file in httpx_files_list:\n",
    "    print(f\"File: {file['s3_object_name']}, Tags: {file['tags']}\")"
   ]
  }
 ],
 "metadata": {
  "kernelspec": {
   "display_name": "pytorch-gpu",
   "language": "python",
   "name": "python3"
  },
  "language_info": {
   "codemirror_mode": {
    "name": "ipython",
    "version": 3
   },
   "file_extension": ".py",
   "mimetype": "text/x-python",
   "name": "python",
   "nbconvert_exporter": "python",
   "pygments_lexer": "ipython3",
   "version": "3.11.7"
  }
 },
 "nbformat": 4,
 "nbformat_minor": 2
}
