{
 "cells": [
  {
   "cell_type": "code",
   "execution_count": 5,
   "metadata": {},
   "outputs": [
    {
     "data": {
      "text/plain": [
       "'\\nuse this to test S3 interfacing\\n'"
      ]
     },
     "execution_count": 5,
     "metadata": {},
     "output_type": "execute_result"
    }
   ],
   "source": [
    "\"\"\"\n",
    "use this to test S3 interfacing\n",
    "\"\"\"\n",
    "#!pip install boto3"
   ]
  },
  {
   "cell_type": "code",
   "execution_count": 6,
   "metadata": {},
   "outputs": [
    {
     "name": "stdout",
     "output_type": "stream",
     "text": [
      "<botocore.client.S3 object at 0x000001C443F88790>\n"
     ]
    }
   ],
   "source": [
    "\n",
    "import boto3\n",
    "\n",
    "s3 = boto3.client('s3')\n",
    "print(s3)\n",
    "\n"
   ]
  },
  {
   "cell_type": "code",
   "execution_count": 8,
   "metadata": {},
   "outputs": [
    {
     "ename": "ValueError",
     "evalue": "Fileobj must implement read",
     "output_type": "error",
     "traceback": [
      "\u001b[1;31m---------------------------------------------------------------------------\u001b[0m",
      "\u001b[1;31mValueError\u001b[0m                                Traceback (most recent call last)",
      "\u001b[1;32mc:\\Users\\endle\\Desktop\\s3-layer\\test.ipynb Cell 3\u001b[0m line \u001b[0;36m<cell line: 5>\u001b[1;34m()\u001b[0m\n\u001b[0;32m      <a href='vscode-notebook-cell:/c%3A/Users/endle/Desktop/s3-layer/test.ipynb#W2sZmlsZQ%3D%3D?line=1'>2</a>\u001b[0m bucket \u001b[39m=\u001b[39m \u001b[39m\"\u001b[39m\u001b[39mtsi-mlops\u001b[39m\u001b[39m\"\u001b[39m\n\u001b[0;32m      <a href='vscode-notebook-cell:/c%3A/Users/endle/Desktop/s3-layer/test.ipynb#W2sZmlsZQ%3D%3D?line=2'>3</a>\u001b[0m testimgpth \u001b[39m=\u001b[39m \u001b[39mr\u001b[39m\u001b[39m'\u001b[39m\u001b[39mtestimg.png\u001b[39m\u001b[39m'\u001b[39m\n\u001b[1;32m----> <a href='vscode-notebook-cell:/c%3A/Users/endle/Desktop/s3-layer/test.ipynb#W2sZmlsZQ%3D%3D?line=4'>5</a>\u001b[0m s3\u001b[39m.\u001b[39;49mupload_fileobj(testimgpth, bucket, Key\u001b[39m=\u001b[39;49m\u001b[39m'\u001b[39;49m\u001b[39mtestimg\u001b[39;49m\u001b[39m'\u001b[39;49m)\n",
      "File \u001b[1;32mc:\\Users\\endle\\miniconda3\\envs\\pytorch-gpu\\lib\\site-packages\\boto3\\s3\\inject.py:624\u001b[0m, in \u001b[0;36mupload_fileobj\u001b[1;34m(self, Fileobj, Bucket, Key, ExtraArgs, Callback, Config)\u001b[0m\n\u001b[0;32m    585\u001b[0m \u001b[39m\u001b[39m\u001b[39m\"\"\"Upload a file-like object to S3.\u001b[39;00m\n\u001b[0;32m    586\u001b[0m \n\u001b[0;32m    587\u001b[0m \u001b[39mThe file-like object must be in binary mode.\u001b[39;00m\n\u001b[1;32m   (...)\u001b[0m\n\u001b[0;32m    621\u001b[0m \u001b[39m    upload.\u001b[39;00m\n\u001b[0;32m    622\u001b[0m \u001b[39m\"\"\"\u001b[39;00m\n\u001b[0;32m    623\u001b[0m \u001b[39mif\u001b[39;00m \u001b[39mnot\u001b[39;00m \u001b[39mhasattr\u001b[39m(Fileobj, \u001b[39m'\u001b[39m\u001b[39mread\u001b[39m\u001b[39m'\u001b[39m):\n\u001b[1;32m--> 624\u001b[0m     \u001b[39mraise\u001b[39;00m \u001b[39mValueError\u001b[39;00m(\u001b[39m'\u001b[39m\u001b[39mFileobj must implement read\u001b[39m\u001b[39m'\u001b[39m)\n\u001b[0;32m    626\u001b[0m subscribers \u001b[39m=\u001b[39m \u001b[39mNone\u001b[39;00m\n\u001b[0;32m    627\u001b[0m \u001b[39mif\u001b[39;00m Callback \u001b[39mis\u001b[39;00m \u001b[39mnot\u001b[39;00m \u001b[39mNone\u001b[39;00m:\n",
      "\u001b[1;31mValueError\u001b[0m: Fileobj must implement read"
     ]
    }
   ],
   "source": [
    "# pick a file\n",
    "bucket = \"tsi-mlops\"\n",
    "testimgpth = r'testimg.png'\n",
    "\n",
    "s3.upload_fileobj(testimgpth, bucket, Key='testimg')"
   ]
  },
  {
   "cell_type": "code",
   "execution_count": null,
   "metadata": {},
   "outputs": [],
   "source": []
  },
  {
   "cell_type": "code",
   "execution_count": 21,
   "metadata": {},
   "outputs": [],
   "source": [
    "import boto3\n",
    "from botocore.exceptions import NoCredentialsError\n",
    "import requests\n",
    "import mimetypes\n",
    "\n",
    "ACCESS_KEY_ID = '***'\n",
    "SECRET_ACCESS_KEY = '***'\n",
    "\n",
    "\n",
    "def upload_file(remote_url, bucket, file_name):\n",
    "    s3 = boto3.client('s3', aws_access_key_id=ACCESS_KEY_ID, aws_secret_access_key=SECRET_ACCESS_KEY)\n",
    "    try:\n",
    "        imageResponse = requests.get(remote_url, stream=True).raw\n",
    "        print('img response: ', imageResponse)\n",
    "        content_type = imageResponse.headers['content-type']\n",
    "        extension = mimetypes.guess_extension(content_type)\n",
    "        print('extension: ', extension)\n",
    "        extension = '.png'\n",
    "        s3.upload_fileobj(imageResponse, bucket, file_name + extension)\n",
    "        print(\"Upload Successful\")\n",
    "        return True\n",
    "    except FileNotFoundError:\n",
    "        print(\"The file was not found\")\n",
    "        return False\n",
    "    except NoCredentialsError:\n",
    "        print(\"Credentials not available\")\n",
    "        return False\n",
    "\n",
    "\n"
   ]
  },
  {
   "cell_type": "code",
   "execution_count": 22,
   "metadata": {},
   "outputs": [
    {
     "name": "stdout",
     "output_type": "stream",
     "text": [
      "img response:  <urllib3.response.HTTPResponse object at 0x000001C444296670>\n",
      "extension:  None\n",
      "Upload Successful\n"
     ]
    }
   ],
   "source": [
    "url_path = 'https://github.com/skylersaucedo/s3-layer/blob/main/testimg.png'\n",
    "bucket = \"tsi-mlops\"\n",
    "filename = 'testimg3'\n",
    "\n",
    "uploaded = upload_file(url_path, bucket, filename)"
   ]
  },
  {
   "cell_type": "code",
   "execution_count": null,
   "metadata": {},
   "outputs": [],
   "source": []
  }
 ],
 "metadata": {
  "kernelspec": {
   "display_name": "pytorch-gpu",
   "language": "python",
   "name": "python3"
  },
  "language_info": {
   "codemirror_mode": {
    "name": "ipython",
    "version": 3
   },
   "file_extension": ".py",
   "mimetype": "text/x-python",
   "name": "python",
   "nbconvert_exporter": "python",
   "pygments_lexer": "ipython3",
   "version": "3.8.16"
  }
 },
 "nbformat": 4,
 "nbformat_minor": 2
}
